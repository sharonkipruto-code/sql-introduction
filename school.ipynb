{
 "cells": [
  {
   "cell_type": "code",
   "execution_count": 50,
   "id": "6b54f5b2",
   "metadata": {},
   "outputs": [],
   "source": [
    "import sqlite3\n",
    "conn=sqlite3.connect('schools_database.db')\n",
    "cur=conn.cursor()"
   ]
  },
  {
   "cell_type": "code",
   "execution_count": 51,
   "id": "8c0fb9e0",
   "metadata": {},
   "outputs": [
    {
     "data": {
      "text/plain": [
       "<sqlite3.Cursor at 0x2141cf38730>"
      ]
     },
     "execution_count": 51,
     "metadata": {},
     "output_type": "execute_result"
    }
   ],
   "source": [
    "# create table only if it does not already exist; fix INTEGER typos\n",
    "cur.execute('''CREATE TABLE IF NOT EXISTS schools(\n",
    "                id INTEGER PRIMARY KEY,\n",
    "                name TEXT,\n",
    "                age INTEGER,\n",
    "                email TEXT)\n",
    "            ''')"
   ]
  },
  {
   "cell_type": "code",
   "execution_count": 52,
   "id": "acb70986",
   "metadata": {},
   "outputs": [
    {
     "ename": "OperationalError",
     "evalue": "database is locked",
     "output_type": "error",
     "traceback": [
      "\u001b[1;31m---------------------------------------------------------------------------\u001b[0m",
      "\u001b[1;31mOperationalError\u001b[0m                          Traceback (most recent call last)",
      "Cell \u001b[1;32mIn[52], line 1\u001b[0m\n\u001b[1;32m----> 1\u001b[0m \u001b[43mcur\u001b[49m\u001b[38;5;241;43m.\u001b[39;49m\u001b[43mexecute\u001b[49m\u001b[43m(\u001b[49m\u001b[38;5;124;43m'''\u001b[39;49m\u001b[38;5;124;43mINSERT INTO schools(name, age, email)\u001b[39;49m\n\u001b[0;32m      2\u001b[0m \u001b[38;5;124;43m               VALUES(\u001b[39;49m\u001b[38;5;124;43m'\u001b[39;49m\u001b[38;5;124;43mAlice\u001b[39;49m\u001b[38;5;124;43m'\u001b[39;49m\u001b[38;5;124;43m, 14, \u001b[39;49m\u001b[38;5;124;43m'\u001b[39;49m\u001b[38;5;124;43malice@gmail.com\u001b[39;49m\u001b[38;5;124;43m'\u001b[39;49m\u001b[38;5;124;43m)\u001b[39;49m\u001b[38;5;124;43m'''\u001b[39;49m\u001b[43m)\u001b[49m\n",
      "\u001b[1;31mOperationalError\u001b[0m: database is locked"
     ]
    }
   ],
   "source": [
    "cur.execute('''INSERT INTO schools(name, age, email)\n",
    "               VALUES('Alice', 14, 'alice@gmail.com')''')"
   ]
  },
  {
   "cell_type": "code",
   "execution_count": null,
   "id": "c58a952c",
   "metadata": {},
   "outputs": [
    {
     "name": "stdout",
     "output_type": "stream",
     "text": [
      "[(1, 'Alice', 14, 'alice@gmail.com')]\n"
     ]
    }
   ],
   "source": [
    "query= '''SELECT * FROM schools;'''\n",
    "result=cur.execute(query).fetchall()\n",
    "print(result)"
   ]
  },
  {
   "cell_type": "markdown",
   "id": "101e1d4a",
   "metadata": {},
   "source": [
    "### CRUD OPERATIONS: CREATE ,UPDATE,INSERT,DELETE,ALTER"
   ]
  },
  {
   "cell_type": "code",
   "execution_count": null,
   "id": "9e37897b",
   "metadata": {},
   "outputs": [
    {
     "data": {
      "text/plain": [
       "<sqlite3.Cursor at 0x2141cc432d0>"
      ]
     },
     "execution_count": 21,
     "metadata": {},
     "output_type": "execute_result"
    }
   ],
   "source": [
    "cur.execute('''ALTER TABLE schools ADD COLUMN school_name TEXT''')"
   ]
  },
  {
   "cell_type": "code",
   "execution_count": null,
   "id": "f6ebe083",
   "metadata": {},
   "outputs": [
    {
     "data": {
      "text/plain": [
       "<sqlite3.Cursor at 0x2141cc432d0>"
      ]
     },
     "execution_count": 22,
     "metadata": {},
     "output_type": "execute_result"
    }
   ],
   "source": [
    "cur.execute('''UPDATE schools SET school_name= 'ABC high school' WHERE name='Alice';''')"
   ]
  },
  {
   "cell_type": "code",
   "execution_count": null,
   "id": "ae161344",
   "metadata": {},
   "outputs": [
    {
     "name": "stdout",
     "output_type": "stream",
     "text": [
      "[(1, 'Alice', 14, 'alice@gmail.com', 'ABC high school')]\n"
     ]
    }
   ],
   "source": [
    "query= '''SELECT * FROM schools;'''\n",
    "result=cur.execute(query).fetchall()\n",
    "print(result)"
   ]
  },
  {
   "cell_type": "code",
   "execution_count": null,
   "id": "5cdbbdb9",
   "metadata": {},
   "outputs": [
    {
     "data": {
      "text/plain": [
       "<sqlite3.Cursor at 0x2141cc432d0>"
      ]
     },
     "execution_count": 24,
     "metadata": {},
     "output_type": "execute_result"
    }
   ],
   "source": [
    "cur.execute('''ALTER TABLE schools ADD COLUMN grade INTERGER''')"
   ]
  },
  {
   "cell_type": "code",
   "execution_count": null,
   "id": "03fadbe1",
   "metadata": {},
   "outputs": [
    {
     "data": {
      "text/plain": [
       "<sqlite3.Cursor at 0x2141cc432d0>"
      ]
     },
     "execution_count": 25,
     "metadata": {},
     "output_type": "execute_result"
    }
   ],
   "source": [
    "cur.execute('''UPDATE schools SET grade= 9 WHERE name='Alice';''')"
   ]
  },
  {
   "cell_type": "code",
   "execution_count": null,
   "id": "fe110ca7",
   "metadata": {},
   "outputs": [
    {
     "name": "stdout",
     "output_type": "stream",
     "text": [
      "[(1, 'Alice', 14, 'alice@gmail.com', 'ABC high school', 9)]\n"
     ]
    }
   ],
   "source": [
    "query= '''SELECT * FROM schools;'''\n",
    "result=cur.execute(query).fetchall()\n",
    "print(result)"
   ]
  },
  {
   "cell_type": "code",
   "execution_count": null,
   "id": "5dbdddf0",
   "metadata": {},
   "outputs": [
    {
     "data": {
      "text/plain": [
       "<sqlite3.Cursor at 0x2141cc432d0>"
      ]
     },
     "execution_count": 27,
     "metadata": {},
     "output_type": "execute_result"
    }
   ],
   "source": [
    "cur.execute('''INSERT INTO schools(name, age, email,school_name,grade)\n",
    "               VALUES('Marley', 6, 'marley@gmail.com','sacho High',2);''')"
   ]
  },
  {
   "cell_type": "code",
   "execution_count": null,
   "id": "62525909",
   "metadata": {},
   "outputs": [
    {
     "data": {
      "text/plain": [
       "<sqlite3.Cursor at 0x2141cc432d0>"
      ]
     },
     "execution_count": 28,
     "metadata": {},
     "output_type": "execute_result"
    }
   ],
   "source": [
    "cur.execute('''INSERT INTO schools(name, age, email,school_name,grade)\n",
    "               VALUES('Bob', 16, 'bob@gmail.com','123 High',9),('Eve',12,'eve@moringa.com','KBT high',8);''')"
   ]
  },
  {
   "cell_type": "code",
   "execution_count": null,
   "id": "edd2eb2e",
   "metadata": {},
   "outputs": [
    {
     "name": "stdout",
     "output_type": "stream",
     "text": [
      "[(1, 'Alice', 14, 'alice@gmail.com', 'ABC high school', 9), (2, 'Marley', 6, 'marley@gmail.com', 'sacho High', 2), (3, 'Bob', 16, 'bob@gmail.com', '123 High', 9), (4, 'Eve', 12, 'eve@moringa.com', 'KBT high', 8)]\n"
     ]
    }
   ],
   "source": [
    "query= '''SELECT * FROM schools;'''\n",
    "result=cur.execute(query).fetchall()\n",
    "print(result)"
   ]
  },
  {
   "cell_type": "code",
   "execution_count": null,
   "id": "59375c46",
   "metadata": {},
   "outputs": [
    {
     "ename": "OperationalError",
     "evalue": "database is locked",
     "output_type": "error",
     "traceback": [
      "\u001b[1;31m---------------------------------------------------------------------------\u001b[0m",
      "\u001b[1;31mOperationalError\u001b[0m                          Traceback (most recent call last)",
      "Cell \u001b[1;32mIn[49], line 1\u001b[0m\n\u001b[1;32m----> 1\u001b[0m \u001b[43mcur\u001b[49m\u001b[38;5;241;43m.\u001b[39;49m\u001b[43mexecute\u001b[49m\u001b[43m(\u001b[49m\u001b[38;5;124;43m'''\u001b[39;49m\u001b[38;5;124;43mDELETE FROM schools WHERE id=4;\u001b[39;49m\u001b[38;5;124;43m'''\u001b[39;49m\u001b[43m)\u001b[49m\n",
      "\u001b[1;31mOperationalError\u001b[0m: database is locked"
     ]
    }
   ],
   "source": [
    "cur.execute('''DELETE FROM schools WHERE id=4;''')"
   ]
  },
  {
   "cell_type": "code",
   "execution_count": null,
   "id": "7a6ff4bb",
   "metadata": {},
   "outputs": [
    {
     "name": "stdout",
     "output_type": "stream",
     "text": [
      "[(1, 'Alice', 14, 'alice@gmail.com', 'ABC high school', 9), (2, 'Marley', 6, 'marley@gmail.com', 'sacho High', 2), (3, 'Bob', 16, 'bob@gmail.com', '123 High', 9), (4, 'Eve', 12, 'eve@moringa.com', 'KBT high', 8)]\n"
     ]
    }
   ],
   "source": [
    "query= '''SELECT * FROM schools;'''\n",
    "result=cur.execute(query).fetchall()\n",
    "print(result)"
   ]
  },
  {
   "cell_type": "code",
   "execution_count": null,
   "id": "196983ef",
   "metadata": {},
   "outputs": [],
   "source": [
    "conn.close()"
   ]
  }
 ],
 "metadata": {
  "kernelspec": {
   "display_name": "learn-env",
   "language": "python",
   "name": "python3"
  },
  "language_info": {
   "codemirror_mode": {
    "name": "ipython",
    "version": 3
   },
   "file_extension": ".py",
   "mimetype": "text/x-python",
   "name": "python",
   "nbconvert_exporter": "python",
   "pygments_lexer": "ipython3",
   "version": "3.8.5"
  }
 },
 "nbformat": 4,
 "nbformat_minor": 5
}
